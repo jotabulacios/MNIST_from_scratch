{
 "cells": [
  {
   "cell_type": "code",
   "execution_count": 1,
   "metadata": {},
   "outputs": [],
   "source": [
    "# Cargo bibliotecas necesarias para obtener el dataset de MNIST y poder  ver las imagenes despues\n",
    "\n",
    "\n",
    "using MLDatasets\n",
    "using Images\n",
    "using TestImages\n",
    "using Plots"
   ]
  },
  {
   "cell_type": "code",
   "execution_count": 2,
   "metadata": {},
   "outputs": [
    {
     "name": "stdout",
     "output_type": "stream",
     "text": [
      "This program has requested access to the data dependency MNIST.\n",
      "which is not currently installed. It can be installed automatically, and you will not see this message again.\n",
      "\n",
      "Dataset: THE MNIST DATABASE of handwritten digits\n",
      "Authors: Yann LeCun, Corinna Cortes, Christopher J.C. Burges\n",
      "Website: http://yann.lecun.com/exdb/mnist/\n",
      "\n",
      "[LeCun et al., 1998a]\n",
      "    Y. LeCun, L. Bottou, Y. Bengio, and P. Haffner.\n",
      "    \"Gradient-based learning applied to document recognition.\"\n",
      "    Proceedings of the IEEE, 86(11):2278-2324, November 1998\n",
      "\n",
      "The files are available for download at the offical\n",
      "website linked above. Note that using the data\n",
      "responsibly and respecting copyright remains your\n",
      "responsibility. The authors of MNIST aren't really\n",
      "explicit about any terms of use, so please read the\n",
      "website to make sure you want to download the\n",
      "dataset.\n",
      "\n",
      "\n",
      "\n",
      "Do you want to download the dataset from [\"https://ossci-datasets.s3.amazonaws.com/mnist/train-images-idx3-ubyte.gz\", \"https://ossci-datasets.s3.amazonaws.com/mnist/train-labels-idx1-ubyte.gz\", \"https://ossci-datasets.s3.amazonaws.com/mnist/t10k-images-idx3-ubyte.gz\", \"https://ossci-datasets.s3.amazonaws.com/mnist/t10k-labels-idx1-ubyte.gz\"] to \"/home/juan/.julia/datadeps/MNIST\"?\n",
      "[y/n]\n",
      "Do you want to download the dataset from [\"https://ossci-datasets.s3.amazonaws.com/mnist/train-images-idx3-ubyte.gz\", \"https://ossci-datasets.s3.amazonaws.com/mnist/train-labels-idx1-ubyte.gz\", \"https://ossci-datasets.s3.amazonaws.com/mnist/t10k-images-idx3-ubyte.gz\", \"https://ossci-datasets.s3.amazonaws.com/mnist/t10k-labels-idx1-ubyte.gz\"] to \"/home/juan/.julia/datadeps/MNIST\"?\n",
      "[y/n]\n",
      "Do you want to download the dataset from [\"https://ossci-datasets.s3.amazonaws.com/mnist/train-images-idx3-ubyte.gz\", \"https://ossci-datasets.s3.amazonaws.com/mnist/train-labels-idx1-ubyte.gz\", \"https://ossci-datasets.s3.amazonaws.com/mnist/t10k-images-idx3-ubyte.gz\", \"https://ossci-datasets.s3.amazonaws.com/mnist/t10k-labels-idx1-ubyte.gz\"] to \"/home/juan/.julia/datadeps/MNIST\"?\n",
      "[y/n]\n",
      "Do you want to download the dataset from [\"https://ossci-datasets.s3.amazonaws.com/mnist/train-images-idx3-ubyte.gz\", \"https://ossci-datasets.s3.amazonaws.com/mnist/train-labels-idx1-ubyte.gz\", \"https://ossci-datasets.s3.amazonaws.com/mnist/t10k-images-idx3-ubyte.gz\", \"https://ossci-datasets.s3.amazonaws.com/mnist/t10k-labels-idx1-ubyte.gz\"] to \"/home/juan/.julia/datadeps/MNIST\"?\n",
      "[y/n]\n",
      "Do you want to download the dataset from [\"https://ossci-datasets.s3.amazonaws.com/mnist/train-images-idx3-ubyte.gz\", \"https://ossci-datasets.s3.amazonaws.com/mnist/train-labels-idx1-ubyte.gz\", \"https://ossci-datasets.s3.amazonaws.com/mnist/t10k-images-idx3-ubyte.gz\", \"https://ossci-datasets.s3.amazonaws.com/mnist/t10k-labels-idx1-ubyte.gz\"] to \"/home/juan/.julia/datadeps/MNIST\"?\n",
      "[y/n]\n",
      "Do you want to download the dataset from [\"https://ossci-datasets.s3.amazonaws.com/mnist/train-images-idx3-ubyte.gz\", \"https://ossci-datasets.s3.amazonaws.com/mnist/train-labels-idx1-ubyte.gz\", \"https://ossci-datasets.s3.amazonaws.com/mnist/t10k-images-idx3-ubyte.gz\", \"https://ossci-datasets.s3.amazonaws.com/mnist/t10k-labels-idx1-ubyte.gz\"] to \"/home/juan/.julia/datadeps/MNIST\"?\n",
      "[y/n]\n",
      "Do you want to download the dataset from [\"https://ossci-datasets.s3.amazonaws.com/mnist/train-images-idx3-ubyte.gz\", \"https://ossci-datasets.s3.amazonaws.com/mnist/train-labels-idx1-ubyte.gz\", \"https://ossci-datasets.s3.amazonaws.com/mnist/t10k-images-idx3-ubyte.gz\", \"https://ossci-datasets.s3.amazonaws.com/mnist/t10k-labels-idx1-ubyte.gz\"] to \"/home/juan/.julia/datadeps/MNIST\"?\n",
      "[y/n]\n",
      "Do you want to download the dataset from [\"https://ossci-datasets.s3.amazonaws.com/mnist/train-images-idx3-ubyte.gz\", \"https://ossci-datasets.s3.amazonaws.com/mnist/train-labels-idx1-ubyte.gz\", \"https://ossci-datasets.s3.amazonaws.com/mnist/t10k-images-idx3-ubyte.gz\", \"https://ossci-datasets.s3.amazonaws.com/mnist/t10k-labels-idx1-ubyte.gz\"] to \"/home/juan/.julia/datadeps/MNIST\"?\n",
      "[y/n]\n",
      "Do you want to download the dataset from [\"https://ossci-datasets.s3.amazonaws.com/mnist/train-images-idx3-ubyte.gz\", \"https://ossci-datasets.s3.amazonaws.com/mnist/train-labels-idx1-ubyte.gz\", \"https://ossci-datasets.s3.amazonaws.com/mnist/t10k-images-idx3-ubyte.gz\", \"https://ossci-datasets.s3.amazonaws.com/mnist/t10k-labels-idx1-ubyte.gz\"] to \"/home/juan/.julia/datadeps/MNIST\"?\n",
      "[y/n]\n",
      "Do you want to download the dataset from [\"https://ossci-datasets.s3.amazonaws.com/mnist/train-images-idx3-ubyte.gz\", \"https://ossci-datasets.s3.amazonaws.com/mnist/train-labels-idx1-ubyte.gz\", \"https://ossci-datasets.s3.amazonaws.com/mnist/t10k-images-idx3-ubyte.gz\", \"https://ossci-datasets.s3.amazonaws.com/mnist/t10k-labels-idx1-ubyte.gz\"] to \"/home/juan/.julia/datadeps/MNIST\"?\n",
      "[y/n]\n",
      "Do you want to download the dataset from [\"https://ossci-datasets.s3.amazonaws.com/mnist/train-images-idx3-ubyte.gz\", \"https://ossci-datasets.s3.amazonaws.com/mnist/train-labels-idx1-ubyte.gz\", \"https://ossci-datasets.s3.amazonaws.com/mnist/t10k-images-idx3-ubyte.gz\", \"https://ossci-datasets.s3.amazonaws.com/mnist/t10k-labels-idx1-ubyte.gz\"] to \"/home/juan/.julia/datadeps/MNIST\"?\n",
      "[y/n]\n",
      "Do you want to download the dataset from [\"https://ossci-datasets.s3.amazonaws.com/mnist/train-images-idx3-ubyte.gz\", \"https://ossci-datasets.s3.amazonaws.com/mnist/train-labels-idx1-ubyte.gz\", \"https://ossci-datasets.s3.amazonaws.com/mnist/t10k-images-idx3-ubyte.gz\", \"https://ossci-datasets.s3.amazonaws.com/mnist/t10k-labels-idx1-ubyte.gz\"] to \"/home/juan/.julia/datadeps/MNIST\"?\n",
      "[y/n]\n",
      "Do you want to download the dataset from [\"https://ossci-datasets.s3.amazonaws.com/mnist/train-images-idx3-ubyte.gz\", \"https://ossci-datasets.s3.amazonaws.com/mnist/train-labels-idx1-ubyte.gz\", \"https://ossci-datasets.s3.amazonaws.com/mnist/t10k-images-idx3-ubyte.gz\", \"https://ossci-datasets.s3.amazonaws.com/mnist/t10k-labels-idx1-ubyte.gz\"] to \"/home/juan/.julia/datadeps/MNIST\"?\n",
      "[y/n]\n",
      "Do you want to download the dataset from [\"https://ossci-datasets.s3.amazonaws.com/mnist/train-images-idx3-ubyte.gz\", \"https://ossci-datasets.s3.amazonaws.com/mnist/train-labels-idx1-ubyte.gz\", \"https://ossci-datasets.s3.amazonaws.com/mnist/t10k-images-idx3-ubyte.gz\", \"https://ossci-datasets.s3.amazonaws.com/mnist/t10k-labels-idx1-ubyte.gz\"] to \"/home/juan/.julia/datadeps/MNIST\"?\n",
      "[y/n]\n",
      "Do you want to download the dataset from [\"https://ossci-datasets.s3.amazonaws.com/mnist/train-images-idx3-ubyte.gz\", \"https://ossci-datasets.s3.amazonaws.com/mnist/train-labels-idx1-ubyte.gz\", \"https://ossci-datasets.s3.amazonaws.com/mnist/t10k-images-idx3-ubyte.gz\", \"https://ossci-datasets.s3.amazonaws.com/mnist/t10k-labels-idx1-ubyte.gz\"] to \"/home/juan/.julia/datadeps/MNIST\"?\n",
      "[y/n]\n",
      "Do you want to download the dataset from [\"https://ossci-datasets.s3.amazonaws.com/mnist/train-images-idx3-ubyte.gz\", \"https://ossci-datasets.s3.amazonaws.com/mnist/train-labels-idx1-ubyte.gz\", \"https://ossci-datasets.s3.amazonaws.com/mnist/t10k-images-idx3-ubyte.gz\", \"https://ossci-datasets.s3.amazonaws.com/mnist/t10k-labels-idx1-ubyte.gz\"] to \"/home/juan/.julia/datadeps/MNIST\"?\n",
      "[y/n]\n",
      "Do you want to download the dataset from [\"https://ossci-datasets.s3.amazonaws.com/mnist/train-images-idx3-ubyte.gz\", \"https://ossci-datasets.s3.amazonaws.com/mnist/train-labels-idx1-ubyte.gz\", \"https://ossci-datasets.s3.amazonaws.com/mnist/t10k-images-idx3-ubyte.gz\", \"https://ossci-datasets.s3.amazonaws.com/mnist/t10k-labels-idx1-ubyte.gz\"] to \"/home/juan/.julia/datadeps/MNIST\"?\n",
      "[y/n]\n",
      "Do you want to download the dataset from [\"https://ossci-datasets.s3.amazonaws.com/mnist/train-images-idx3-ubyte.gz\", \"https://ossci-datasets.s3.amazonaws.com/mnist/train-labels-idx1-ubyte.gz\", \"https://ossci-datasets.s3.amazonaws.com/mnist/t10k-images-idx3-ubyte.gz\", \"https://ossci-datasets.s3.amazonaws.com/mnist/t10k-labels-idx1-ubyte.gz\"] to \"/home/juan/.julia/datadeps/MNIST\"?\n",
      "[y/n]\n",
      "Do you want to download the dataset from [\"https://ossci-datasets.s3.amazonaws.com/mnist/train-images-idx3-ubyte.gz\", \"https://ossci-datasets.s3.amazonaws.com/mnist/train-labels-idx1-ubyte.gz\", \"https://ossci-datasets.s3.amazonaws.com/mnist/t10k-images-idx3-ubyte.gz\", \"https://ossci-datasets.s3.amazonaws.com/mnist/t10k-labels-idx1-ubyte.gz\"] to \"/home/juan/.julia/datadeps/MNIST\"?\n",
      "[y/n]\n",
      "Do you want to download the dataset from [\"https://ossci-datasets.s3.amazonaws.com/mnist/train-images-idx3-ubyte.gz\", \"https://ossci-datasets.s3.amazonaws.com/mnist/train-labels-idx1-ubyte.gz\", \"https://ossci-datasets.s3.amazonaws.com/mnist/t10k-images-idx3-ubyte.gz\", \"https://ossci-datasets.s3.amazonaws.com/mnist/t10k-labels-idx1-ubyte.gz\"] to \"/home/juan/.julia/datadeps/MNIST\"?\n",
      "[y/n]\n",
      "Do you want to download the dataset from [\"https://ossci-datasets.s3.amazonaws.com/mnist/train-images-idx3-ubyte.gz\", \"https://ossci-datasets.s3.amazonaws.com/mnist/train-labels-idx1-ubyte.gz\", \"https://ossci-datasets.s3.amazonaws.com/mnist/t10k-images-idx3-ubyte.gz\", \"https://ossci-datasets.s3.amazonaws.com/mnist/t10k-labels-idx1-ubyte.gz\"] to \"/home/juan/.julia/datadeps/MNIST\"?\n",
      "[y/n]\n",
      "Do you want to download the dataset from [\"https://ossci-datasets.s3.amazonaws.com/mnist/train-images-idx3-ubyte.gz\", \"https://ossci-datasets.s3.amazonaws.com/mnist/train-labels-idx1-ubyte.gz\", \"https://ossci-datasets.s3.amazonaws.com/mnist/t10k-images-idx3-ubyte.gz\", \"https://ossci-datasets.s3.amazonaws.com/mnist/t10k-labels-idx1-ubyte.gz\"] to \"/home/juan/.julia/datadeps/MNIST\"?\n",
      "[y/n]\n",
      "Do you want to download the dataset from [\"https://ossci-datasets.s3.amazonaws.com/mnist/train-images-idx3-ubyte.gz\", \"https://ossci-datasets.s3.amazonaws.com/mnist/train-labels-idx1-ubyte.gz\", \"https://ossci-datasets.s3.amazonaws.com/mnist/t10k-images-idx3-ubyte.gz\", \"https://ossci-datasets.s3.amazonaws.com/mnist/t10k-labels-idx1-ubyte.gz\"] to \"/home/juan/.julia/datadeps/MNIST\"?\n",
      "[y/n]\n",
      "Do you want to download the dataset from [\"https://ossci-datasets.s3.amazonaws.com/mnist/train-images-idx3-ubyte.gz\", \"https://ossci-datasets.s3.amazonaws.com/mnist/train-labels-idx1-ubyte.gz\", \"https://ossci-datasets.s3.amazonaws.com/mnist/t10k-images-idx3-ubyte.gz\", \"https://ossci-datasets.s3.amazonaws.com/mnist/t10k-labels-idx1-ubyte.gz\"] to \"/home/juan/.julia/datadeps/MNIST\"?\n",
      "[y/n]\n",
      "Do you want to download the dataset from [\"https://ossci-datasets.s3.amazonaws.com/mnist/train-images-idx3-ubyte.gz\", \"https://ossci-datasets.s3.amazonaws.com/mnist/train-labels-idx1-ubyte.gz\", \"https://ossci-datasets.s3.amazonaws.com/mnist/t10k-images-idx3-ubyte.gz\", \"https://ossci-datasets.s3.amazonaws.com/mnist/t10k-labels-idx1-ubyte.gz\"] to \"/home/juan/.julia/datadeps/MNIST\"?\n",
      "[y/n]\n",
      "Do you want to download the dataset from [\"https://ossci-datasets.s3.amazonaws.com/mnist/train-images-idx3-ubyte.gz\", \"https://ossci-datasets.s3.amazonaws.com/mnist/train-labels-idx1-ubyte.gz\", \"https://ossci-datasets.s3.amazonaws.com/mnist/t10k-images-idx3-ubyte.gz\", \"https://ossci-datasets.s3.amazonaws.com/mnist/t10k-labels-idx1-ubyte.gz\"] to \"/home/juan/.julia/datadeps/MNIST\"?\n",
      "[y/n]\n",
      "Do you want to download the dataset from [\"https://ossci-datasets.s3.amazonaws.com/mnist/train-images-idx3-ubyte.gz\", \"https://ossci-datasets.s3.amazonaws.com/mnist/train-labels-idx1-ubyte.gz\", \"https://ossci-datasets.s3.amazonaws.com/mnist/t10k-images-idx3-ubyte.gz\", \"https://ossci-datasets.s3.amazonaws.com/mnist/t10k-labels-idx1-ubyte.gz\"] to \"/home/juan/.julia/datadeps/MNIST\"?\n",
      "[y/n]\n",
      "Do you want to download the dataset from [\"https://ossci-datasets.s3.amazonaws.com/mnist/train-images-idx3-ubyte.gz\", \"https://ossci-datasets.s3.amazonaws.com/mnist/train-labels-idx1-ubyte.gz\", \"https://ossci-datasets.s3.amazonaws.com/mnist/t10k-images-idx3-ubyte.gz\", \"https://ossci-datasets.s3.amazonaws.com/mnist/t10k-labels-idx1-ubyte.gz\"] to \"/home/juan/.julia/datadeps/MNIST\"?\n",
      "[y/n]\n",
      "Do you want to download the dataset from [\"https://ossci-datasets.s3.amazonaws.com/mnist/train-images-idx3-ubyte.gz\", \"https://ossci-datasets.s3.amazonaws.com/mnist/train-labels-idx1-ubyte.gz\", \"https://ossci-datasets.s3.amazonaws.com/mnist/t10k-images-idx3-ubyte.gz\", \"https://ossci-datasets.s3.amazonaws.com/mnist/t10k-labels-idx1-ubyte.gz\"] to \"/home/juan/.julia/datadeps/MNIST\"?\n",
      "[y/n]\n",
      "Do you want to download the dataset from [\"https://ossci-datasets.s3.amazonaws.com/mnist/train-images-idx3-ubyte.gz\", \"https://ossci-datasets.s3.amazonaws.com/mnist/train-labels-idx1-ubyte.gz\", \"https://ossci-datasets.s3.amazonaws.com/mnist/t10k-images-idx3-ubyte.gz\", \"https://ossci-datasets.s3.amazonaws.com/mnist/t10k-labels-idx1-ubyte.gz\"] to \"/home/juan/.julia/datadeps/MNIST\"?\n",
      "[y/n]\n"
     ]
    },
    {
     "data": {
      "text/plain": [
       "([0.0N0f8 0.0N0f8 … 0.0N0f8 0.0N0f8; 0.0N0f8 0.0N0f8 … 0.0N0f8 0.0N0f8; … ; 0.0N0f8 0.0N0f8 … 0.0N0f8 0.0N0f8; 0.0N0f8 0.0N0f8 … 0.0N0f8 0.0N0f8;;; 0.0N0f8 0.0N0f8 … 0.0N0f8 0.0N0f8; 0.0N0f8 0.0N0f8 … 0.0N0f8 0.0N0f8; … ; 0.0N0f8 0.0N0f8 … 0.0N0f8 0.0N0f8; 0.0N0f8 0.0N0f8 … 0.0N0f8 0.0N0f8;;; 0.0N0f8 0.0N0f8 … 0.0N0f8 0.0N0f8; 0.0N0f8 0.0N0f8 … 0.0N0f8 0.0N0f8; … ; 0.0N0f8 0.0N0f8 … 0.0N0f8 0.0N0f8; 0.0N0f8 0.0N0f8 … 0.0N0f8 0.0N0f8;;; … ;;; 0.0N0f8 0.0N0f8 … 0.0N0f8 0.0N0f8; 0.0N0f8 0.0N0f8 … 0.0N0f8 0.0N0f8; … ; 0.0N0f8 0.0N0f8 … 0.0N0f8 0.0N0f8; 0.0N0f8 0.0N0f8 … 0.0N0f8 0.0N0f8;;; 0.0N0f8 0.0N0f8 … 0.0N0f8 0.0N0f8; 0.0N0f8 0.0N0f8 … 0.0N0f8 0.0N0f8; … ; 0.0N0f8 0.0N0f8 … 0.0N0f8 0.0N0f8; 0.0N0f8 0.0N0f8 … 0.0N0f8 0.0N0f8;;; 0.0N0f8 0.0N0f8 … 0.0N0f8 0.0N0f8; 0.0N0f8 0.0N0f8 … 0.0N0f8 0.0N0f8; … ; 0.0N0f8 0.0N0f8 … 0.0N0f8 0.0N0f8; 0.0N0f8 0.0N0f8 … 0.0N0f8 0.0N0f8], [7, 2, 1, 0, 4, 1, 4, 9, 5, 9  …  7, 8, 9, 0, 1, 2, 3, 4, 5, 6])"
      ]
     },
     "execution_count": 2,
     "metadata": {},
     "output_type": "execute_result"
    }
   ],
   "source": [
    "train_x,train_y = MLDatasets.MNIST.traindata()\n",
    "test_x,test_y = MLDatasets.MNIST.testdata()"
   ]
  },
  {
   "cell_type": "code",
   "execution_count": 4,
   "metadata": {},
   "outputs": [
    {
     "data": {
      "text/plain": [
       "(28, 28, 60000)"
      ]
     },
     "execution_count": 4,
     "metadata": {},
     "output_type": "execute_result"
    }
   ],
   "source": [
    "# Vemos el tamaño que posee\n",
    "size(train_x)"
   ]
  },
  {
   "cell_type": "code",
   "execution_count": 6,
   "metadata": {},
   "outputs": [
    {
     "data": {
      "text/plain": [
       "28×28 Array{N0f8,2} with eltype N0f8:\n",
       " 0.0  0.0  0.0  0.0  0.0  0.0    0.0    …  0.0    0.0    0.0    0.0  0.0  0.0\n",
       " 0.0  0.0  0.0  0.0  0.0  0.0    0.0       0.0    0.0    0.0    0.0  0.0  0.0\n",
       " 0.0  0.0  0.0  0.0  0.0  0.0    0.0       0.0    0.0    0.0    0.0  0.0  0.0\n",
       " 0.0  0.0  0.0  0.0  0.0  0.0    0.0       0.0    0.0    0.0    0.0  0.0  0.0\n",
       " 0.0  0.0  0.0  0.0  0.0  0.0    0.0       0.0    0.216  0.533  0.0  0.0  0.0\n",
       " 0.0  0.0  0.0  0.0  0.0  0.0    0.0    …  0.0    0.675  0.992  0.0  0.0  0.0\n",
       " 0.0  0.0  0.0  0.0  0.0  0.0    0.0       0.071  0.886  0.992  0.0  0.0  0.0\n",
       " 0.0  0.0  0.0  0.0  0.0  0.0    0.0       0.671  0.992  0.992  0.0  0.0  0.0\n",
       " 0.0  0.0  0.0  0.0  0.0  0.0    0.118     0.859  0.992  0.831  0.0  0.0  0.0\n",
       " 0.0  0.0  0.0  0.0  0.0  0.0    0.141     0.992  0.992  0.529  0.0  0.0  0.0\n",
       " 0.0  0.0  0.0  0.0  0.0  0.0    0.369  …  0.992  0.992  0.518  0.0  0.0  0.0\n",
       " 0.0  0.0  0.0  0.0  0.0  0.0    0.604     0.992  0.957  0.063  0.0  0.0  0.0\n",
       " 0.0  0.0  0.0  0.0  0.0  0.012  0.667     0.992  0.522  0.0    0.0  0.0  0.0\n",
       " ⋮                        ⋮             ⋱                       ⋮         \n",
       " 0.0  0.0  0.0  0.0  0.0  0.494  0.992     0.0    0.0    0.0    0.0  0.0  0.0\n",
       " 0.0  0.0  0.0  0.0  0.0  0.533  0.992     0.0    0.0    0.0    0.0  0.0  0.0\n",
       " 0.0  0.0  0.0  0.0  0.0  0.686  0.882     0.0    0.0    0.0    0.0  0.0  0.0\n",
       " 0.0  0.0  0.0  0.0  0.0  0.102  0.675     0.0    0.0    0.0    0.0  0.0  0.0\n",
       " 0.0  0.0  0.0  0.0  0.0  0.651  0.992  …  0.0    0.0    0.0    0.0  0.0  0.0\n",
       " 0.0  0.0  0.0  0.0  0.0  1.0    0.949     0.0    0.0    0.0    0.0  0.0  0.0\n",
       " 0.0  0.0  0.0  0.0  0.0  0.969  0.765     0.0    0.0    0.0    0.0  0.0  0.0\n",
       " 0.0  0.0  0.0  0.0  0.0  0.498  0.251     0.0    0.0    0.0    0.0  0.0  0.0\n",
       " 0.0  0.0  0.0  0.0  0.0  0.0    0.0       0.0    0.0    0.0    0.0  0.0  0.0\n",
       " 0.0  0.0  0.0  0.0  0.0  0.0    0.0    …  0.0    0.0    0.0    0.0  0.0  0.0\n",
       " 0.0  0.0  0.0  0.0  0.0  0.0    0.0       0.0    0.0    0.0    0.0  0.0  0.0\n",
       " 0.0  0.0  0.0  0.0  0.0  0.0    0.0       0.0    0.0    0.0    0.0  0.0  0.0"
      ]
     },
     "execution_count": 6,
     "metadata": {},
     "output_type": "execute_result"
    }
   ],
   "source": [
    "# Veamos que forma tiene la primer imagen\n",
    "train_x[:,:,1] # todas las filas y columnas del primero"
   ]
  },
  {
   "cell_type": "code",
   "execution_count": 8,
   "metadata": {},
   "outputs": [
    {
     "data": {
      "image/png": "[encoded data removed]",
      "text/html": [
       "<img src=\"data:image/png;base64,iVBORw0KGgoAAAANSUhEUgAAAHAAAABwCAAAAADji6uXAAAABGdBTUEAALGPC/xhBQAAAAFzUkdCAK7OHOkAAAAgY0hSTQAAeiYAAICEAAD6AAAAgOgAAHUwAADqYAAAOpgAABdwnLpRPAAAAiVJREFUaAW9wT2IFgQABuAHemnI4aJFISgJwkDIIiqIsMLcajiKIEEIshosmgSHhhoUIW/IcIgCISHa+psKsp8hEKSSSAlyECon61Q+jMDT4RuO7w6/n5Pe54myKIuyKIuyKIuyKIuyKIuyKIuyKIuyKIuyKIuyKIsZ3YQ5y17FLdiE3TiI5/EvDuAto6IsyqIsJrgDN+MRPIpb8YzV/sAhzOMSTuI7q0VZlEVZjHE/vsac8ZbwBgb4CH/hH/xmtSiLsiiLMc7iPOasdhyLeAL/4ajpRFmURVmM8Tf24Cn8hEOGfsZ2DLAZr5telEVZlMUEn+IYLmELXsQCBoZ+xcumF2VRFmUxhYuGLhjahY+xZHZRFmVRFjN4Ew/gMTyJr8wuyqIsymIGA7yEH/E+vsEJHMZV04myKIuymNEZvIAj2ImdWIcPcc5kURZlURZr8Al+xwK2YT/uxD78abwoi7IoizX6Bc/haRzBK7gb240XZVEWZXEDFnEUHyDYisfxreuLsiiLslije/EsHkQMncL3xouyKIuymNEmvIZ5bLDsCs5hyXhRFmVRFlPagB3YjY1GncA+fG6yKIuyKIsJ1mMz3sU9Rh3H2/gMS6YTZVEWZXEdt+E93Ie7jPoBC/gSl80myqIsymKFh7EHD+F2oy7jHezHwNpEWZRFWawwj3nLTuMLXMFBLLoxURZlURYr7MVe/58oi7Ioi7Ioi7Ioi7Ioi7IouwZsVVgTmd3ynQAAAABJRU5ErkJg\">"
      ],
      "text/plain": [
       "28×28 reinterpret(reshape, Gray{N0f8}, adjoint(::Array{N0f8,2})) with eltype Gray{N0f8}:\n",
       " Gray{N0f8}(0.0)  Gray{N0f8}(0.0)  …  Gray{N0f8}(0.0)  Gray{N0f8}(0.0)\n",
       " Gray{N0f8}(0.0)  Gray{N0f8}(0.0)     Gray{N0f8}(0.0)  Gray{N0f8}(0.0)\n",
       " Gray{N0f8}(0.0)  Gray{N0f8}(0.0)     Gray{N0f8}(0.0)  Gray{N0f8}(0.0)\n",
       " Gray{N0f8}(0.0)  Gray{N0f8}(0.0)     Gray{N0f8}(0.0)  Gray{N0f8}(0.0)\n",
       " Gray{N0f8}(0.0)  Gray{N0f8}(0.0)     Gray{N0f8}(0.0)  Gray{N0f8}(0.0)\n",
       " Gray{N0f8}(0.0)  Gray{N0f8}(0.0)  …  Gray{N0f8}(0.0)  Gray{N0f8}(0.0)\n",
       " Gray{N0f8}(0.0)  Gray{N0f8}(0.0)     Gray{N0f8}(0.0)  Gray{N0f8}(0.0)\n",
       " Gray{N0f8}(0.0)  Gray{N0f8}(0.0)     Gray{N0f8}(0.0)  Gray{N0f8}(0.0)\n",
       " Gray{N0f8}(0.0)  Gray{N0f8}(0.0)     Gray{N0f8}(0.0)  Gray{N0f8}(0.0)\n",
       " Gray{N0f8}(0.0)  Gray{N0f8}(0.0)     Gray{N0f8}(0.0)  Gray{N0f8}(0.0)\n",
       " Gray{N0f8}(0.0)  Gray{N0f8}(0.0)  …  Gray{N0f8}(0.0)  Gray{N0f8}(0.0)\n",
       " Gray{N0f8}(0.0)  Gray{N0f8}(0.0)     Gray{N0f8}(0.0)  Gray{N0f8}(0.0)\n",
       " Gray{N0f8}(0.0)  Gray{N0f8}(0.0)     Gray{N0f8}(0.0)  Gray{N0f8}(0.0)\n",
       " ⋮                                 ⋱                   \n",
       " Gray{N0f8}(0.0)  Gray{N0f8}(0.0)     Gray{N0f8}(0.0)  Gray{N0f8}(0.0)\n",
       " Gray{N0f8}(0.0)  Gray{N0f8}(0.0)     Gray{N0f8}(0.0)  Gray{N0f8}(0.0)\n",
       " Gray{N0f8}(0.0)  Gray{N0f8}(0.0)     Gray{N0f8}(0.0)  Gray{N0f8}(0.0)\n",
       " Gray{N0f8}(0.0)  Gray{N0f8}(0.0)     Gray{N0f8}(0.0)  Gray{N0f8}(0.0)\n",
       " Gray{N0f8}(0.0)  Gray{N0f8}(0.0)  …  Gray{N0f8}(0.0)  Gray{N0f8}(0.0)\n",
       " Gray{N0f8}(0.0)  Gray{N0f8}(0.0)     Gray{N0f8}(0.0)  Gray{N0f8}(0.0)\n",
       " Gray{N0f8}(0.0)  Gray{N0f8}(0.0)     Gray{N0f8}(0.0)  Gray{N0f8}(0.0)\n",
       " Gray{N0f8}(0.0)  Gray{N0f8}(0.0)     Gray{N0f8}(0.0)  Gray{N0f8}(0.0)\n",
       " Gray{N0f8}(0.0)  Gray{N0f8}(0.0)     Gray{N0f8}(0.0)  Gray{N0f8}(0.0)\n",
       " Gray{N0f8}(0.0)  Gray{N0f8}(0.0)  …  Gray{N0f8}(0.0)  Gray{N0f8}(0.0)\n",
       " Gray{N0f8}(0.0)  Gray{N0f8}(0.0)     Gray{N0f8}(0.0)  Gray{N0f8}(0.0)\n",
       " Gray{N0f8}(0.0)  Gray{N0f8}(0.0)     Gray{N0f8}(0.0)  Gray{N0f8}(0.0)"
      ]
     },
     "execution_count": 8,
     "metadata": {},
     "output_type": "execute_result"
    }
   ],
   "source": [
    "# como se ve \n",
    "colorview(Gray,train_x[:,:,1]')"
   ]
  },
  {
   "cell_type": "code",
   "execution_count": 11,
   "metadata": {},
   "outputs": [
    {
     "data": {
      "text/plain": [
       "5"
      ]
     },
     "execution_count": 11,
     "metadata": {},
     "output_type": "execute_result"
    }
   ],
   "source": [
    "# el valor que nos devuelve es\n",
    "train_y[1]"
   ]
  },
  {
   "cell_type": "code",
   "execution_count": 25,
   "metadata": {},
   "outputs": [],
   "source": [
    "X = []\n",
    "Y = []\n",
    "\n",
    "for i = 1:60000\n",
    "    push!(X,reshape(train_x[:,:,i],784))\n",
    "    y = zeros(10)\n",
    "    y[train_y[i] + 1] = 1.0\n",
    "    push!(Y,y)\n",
    "end\n",
    "train_data = [x for x in zip(X,Y)]\n",
    "\n",
    "X = []\n",
    "Y = []\n",
    "\n",
    "\n",
    "for i = 1:10000\n",
    "    push!(X,reshape(test_x[:,:,i],784))\n",
    "    y = zeros(10)\n",
    "    y[test_y[i] + 1] = 1.0\n",
    "    push!(Y,y)\n",
    "end\n",
    "test_data = [x for x in zip(X,Y)];"
   ]
  },
  {
   "cell_type": "code",
   "execution_count": 29,
   "metadata": {},
   "outputs": [
    {
     "data": {
      "text/plain": [
       "create_network (generic function with 1 method)"
      ]
     },
     "execution_count": 29,
     "metadata": {},
     "output_type": "execute_result"
    }
   ],
   "source": [
    "# Creamos la red neuronal\n",
    "\n",
    "# Definimos la sigmoide y su derivada \n",
    "\n",
    "σ(x) = 1.0 / (1.0 + exp(-x))\n",
    "dσ(x) = σ(x) * (1.0 - σ(x))\n",
    "\n",
    "\n",
    "# Definimos el tipo de la red neurotal\n",
    "\n",
    "\n",
    "mutable struct neural_network\n",
    "    W\n",
    "    b\n",
    "end\n",
    "\n",
    "\n",
    "function create_network(input_layer_size,hidden_layer_sizes,output_layer_size)\n",
    "    W = [[0.0],rand(hidden_layer_sizes[1],input_layer_size)]\n",
    "    b = [[0.0],rand(hidden_layer_sizes[1])]\n",
    "\n",
    "    for i =2:length(hidden_layer_sizes)\n",
    "        push!(W,randn(hidden_layer_sizes[i],hidden_layer_sizes[i-1]))\n",
    "        push!(b,randn(hidden_layer_sizes[i]))\n",
    "    end\n",
    "\n",
    "    push!(W,randn(output_layer_size,hidden_layer_sizes[end]))\n",
    "    push!(b,randn(output_layer_size))\n",
    "\n",
    "\n",
    "    return neural_network(W,b)\n",
    "end\n"
   ]
  },
  {
   "cell_type": "code",
   "execution_count": 31,
   "metadata": {},
   "outputs": [
    {
     "data": {
      "text/plain": [
       "neural_network(Array{Float64}[[0.0], [0.4415432600225898 0.9236828363017078 … 0.3078319071412279 0.4937215641648347; 0.43519741669468126 0.4750430362492015 … 0.6460951539015565 0.17870559499797778; … ; 0.32033409152046644 0.8576384804001171 … 0.7991489612374276 0.16916931431684867; 0.20564862031325482 0.671739762503584 … 0.06150881373562833 0.36432857533061724], [-0.4944074210890177 1.1464396527232283 … 0.3691332752109006 -0.4824992532706545; -0.879694543984176 -0.7503755320564482 … -0.4850488362982976 -0.12376818045063441; … ; -1.566090672477279 -2.063320698799365 … 0.4010319808085385 0.11584103132096991; 0.7008046919665173 0.18220048393879834 … 0.0771938506610427 -1.4105305909677248], [-1.1642494462242767 -0.11929417393304981 … -0.38974527244097196 0.5867668601433137; -0.909609757971281 -0.6559895589679746 … 0.4418081096134431 -0.16660024410568183; … ; 0.6831712794511896 -1.654737327496033 … -0.7865916852381215 0.12939905186600636; -0.46581991002110007 1.2359904387288398 … -0.35326130084742363 1.3428194166056928], [-0.6991055953916055 0.6676828625053771 … 0.3854368427059873 -0.8394048230619571; 0.8110825538647005 -0.6415859799842133 … -1.1159129197384925 -0.9813239605457775; … ; -0.20516492192450284 0.17707552980078153 … 0.8647986209419923 1.1415253822146707; -0.6580282163449689 -0.5404906004248246 … 0.09774915616486507 0.7600612873287653]], [[0.0], [0.5457276892790772, 0.2544428592607543, 0.7977164803777478, 0.37329163195758364, 0.02442034735757259, 0.6334609539345761, 0.10586063451402539, 0.42169979368764077, 0.8019633609652643, 0.6613643038060684  …  0.831617801997894, 0.7230968155006191, 0.44075471731973326, 0.9623055358978713, 0.523255047611942, 0.23947012892998631, 0.03817047256787498, 0.8958241777883306, 0.627216093874671, 0.5354315788849016], [0.5832927279520462, 0.0562679911329803, 0.6956798955991083, 0.2978277925526042, 0.015483992540988666, 0.43666975747691417, 1.4294299943023585, -0.9099811074814309, 0.3952674665873069, 1.3336140207499994  …  -1.251255886822579, 0.436718323806334, -1.1364922066962448, 0.08206317175913014, -0.18951798359804517, -0.10745346196748387, 1.8218375338664383, 0.6855517027415777, -1.109602406775041, 0.8011509946509912], [-1.487725219664932, -0.17383911143669578, -0.4579475602253135, -0.14857482503895358, -1.3294062386284973, -1.5957400391577958, 0.35746856525322196, -0.3702625720455998, 0.8505447476241552, 1.0337225103465824  …  -0.29822533876006957, -0.3418925116701337, 0.6285114320710398, 0.28036133470443486, -2.023754052361115, 1.7521784047667608, 0.7796668191637987, -2.5721476035058393, -0.0363271559738823, 0.39947273081846746], [0.036627003502004506, -0.18099098513119058, 0.2842461936986271, 0.9226016161954199, 1.419936792255589, -0.49268622163471437, -0.05099090515423078, 0.45120189104036185, 0.8035651725390913, 1.4777477047213026]])"
      ]
     },
     "execution_count": 31,
     "metadata": {},
     "output_type": "execute_result"
    }
   ],
   "source": [
    "NN = create_network(784,[100,100,100],10)"
   ]
  },
  {
   "cell_type": "code",
   "execution_count": 32,
   "metadata": {},
   "outputs": [
    {
     "data": {
      "text/plain": [
       "5-element Vector{Array{Float64}}:\n",
       " [0.0]\n",
       " [0.4415432600225898 0.9236828363017078 … 0.3078319071412279 0.4937215641648347; 0.43519741669468126 0.4750430362492015 … 0.6460951539015565 0.17870559499797778; … ; 0.32033409152046644 0.8576384804001171 … 0.7991489612374276 0.16916931431684867; 0.20564862031325482 0.671739762503584 … 0.06150881373562833 0.36432857533061724]\n",
       " [-0.4944074210890177 1.1464396527232283 … 0.3691332752109006 -0.4824992532706545; -0.879694543984176 -0.7503755320564482 … -0.4850488362982976 -0.12376818045063441; … ; -1.566090672477279 -2.063320698799365 … 0.4010319808085385 0.11584103132096991; 0.7008046919665173 0.18220048393879834 … 0.0771938506610427 -1.4105305909677248]\n",
       " [-1.1642494462242767 -0.11929417393304981 … -0.38974527244097196 0.5867668601433137; -0.909609757971281 -0.6559895589679746 … 0.4418081096134431 -0.16660024410568183; … ; 0.6831712794511896 -1.654737327496033 … -0.7865916852381215 0.12939905186600636; -0.46581991002110007 1.2359904387288398 … -0.35326130084742363 1.3428194166056928]\n",
       " [-0.6991055953916055 0.6676828625053771 … 0.3854368427059873 -0.8394048230619571; 0.8110825538647005 -0.6415859799842133 … -1.1159129197384925 -0.9813239605457775; … ; -0.20516492192450284 0.17707552980078153 … 0.8647986209419923 1.1415253822146707; -0.6580282163449689 -0.5404906004248246 … 0.09774915616486507 0.7600612873287653]"
      ]
     },
     "execution_count": 32,
     "metadata": {},
     "output_type": "execute_result"
    }
   ],
   "source": [
    "NN.W"
   ]
  },
  {
   "cell_type": "code",
   "execution_count": 33,
   "metadata": {},
   "outputs": [
    {
     "data": {
      "text/plain": [
       "5-element Vector{Vector{Float64}}:\n",
       " [0.0]\n",
       " [0.5457276892790772, 0.2544428592607543, 0.7977164803777478, 0.37329163195758364, 0.02442034735757259, 0.6334609539345761, 0.10586063451402539, 0.42169979368764077, 0.8019633609652643, 0.6613643038060684  …  0.831617801997894, 0.7230968155006191, 0.44075471731973326, 0.9623055358978713, 0.523255047611942, 0.23947012892998631, 0.03817047256787498, 0.8958241777883306, 0.627216093874671, 0.5354315788849016]\n",
       " [0.5832927279520462, 0.0562679911329803, 0.6956798955991083, 0.2978277925526042, 0.015483992540988666, 0.43666975747691417, 1.4294299943023585, -0.9099811074814309, 0.3952674665873069, 1.3336140207499994  …  -1.251255886822579, 0.436718323806334, -1.1364922066962448, 0.08206317175913014, -0.18951798359804517, -0.10745346196748387, 1.8218375338664383, 0.6855517027415777, -1.109602406775041, 0.8011509946509912]\n",
       " [-1.487725219664932, -0.17383911143669578, -0.4579475602253135, -0.14857482503895358, -1.3294062386284973, -1.5957400391577958, 0.35746856525322196, -0.3702625720455998, 0.8505447476241552, 1.0337225103465824  …  -0.29822533876006957, -0.3418925116701337, 0.6285114320710398, 0.28036133470443486, -2.023754052361115, 1.7521784047667608, 0.7796668191637987, -2.5721476035058393, -0.0363271559738823, 0.39947273081846746]\n",
       " [0.036627003502004506, -0.18099098513119058, 0.2842461936986271, 0.9226016161954199, 1.419936792255589, -0.49268622163471437, -0.05099090515423078, 0.45120189104036185, 0.8035651725390913, 1.4777477047213026]"
      ]
     },
     "execution_count": 33,
     "metadata": {},
     "output_type": "execute_result"
    }
   ],
   "source": [
    "NN.b"
   ]
  },
  {
   "cell_type": "code",
   "execution_count": 35,
   "metadata": {},
   "outputs": [
    {
     "name": "stdout",
     "output_type": "stream",
     "text": [
      "(1,)\n",
      "\n",
      "(100, 784)\n",
      "\n",
      "(100, 100)\n",
      "\n",
      "(100, 100)\n",
      "\n",
      "(10, 100)\n",
      "\n"
     ]
    }
   ],
   "source": [
    "# Vemos las dimensiones\n",
    "\n",
    "for w in NN.W\n",
    "    println(size(w))\n",
    "    println(\"\")\n",
    "end"
   ]
  },
  {
   "cell_type": "code",
   "execution_count": 51,
   "metadata": {},
   "outputs": [
    {
     "data": {
      "text/plain": [
       "success_percentage (generic function with 1 method)"
      ]
     },
     "execution_count": 51,
     "metadata": {},
     "output_type": "execute_result"
    }
   ],
   "source": [
    "# Creamos el foward pass\n",
    "\n",
    "function foward_pass(network,training_instance)\n",
    "    Z = [[0.0]] # preactivation\n",
    "    A = [training_instance[1]]\n",
    "\n",
    "    for i =2:length(network.W)\n",
    "        push!(Z,network.W[i]*A[i-1]) + network.b[i]\n",
    "        push!(A,σ.(Z[i])) #acá hacemos un broadcasing, duda si es correcto implementar en aleo\n",
    "    end\n",
    "\n",
    "    return Z,A\n",
    "\n",
    "end\n",
    "\n",
    "\n",
    "function predict(network,training_instance)\n",
    "    Z,A = foward_pass(network,training_instance)\n",
    "    return argmax(A[end]) - 1\n",
    "end\n",
    "\n",
    "\n",
    "\n",
    "function success_percentage(network,data_set)\n",
    "\n",
    "    return string(\"El porcentaje de imagenes predecidas correctamente es \", sum((predict(network,x))==argmax(x[2]) - 1 ? 1 : 0 for x in data_set)/length(data_set)*100)\n",
    "end"
   ]
  },
  {
   "cell_type": "code",
   "execution_count": 52,
   "metadata": {},
   "outputs": [
    {
     "ename": "LoadError",
     "evalue": "DimensionMismatch(\"dimensions must match: a has dims (Base.OneTo(2),), b has dims (Base.OneTo(100),), mismatch at 1\")",
     "output_type": "error",
     "traceback": [
      "DimensionMismatch(\"dimensions must match: a has dims (Base.OneTo(2),), b has dims (Base.OneTo(100),), mismatch at 1\")",
      "",
      "Stacktrace:",
      "  [1] promote_shape",
      "    @ ./indices.jl:178 [inlined]",
      "  [2] promote_shape",
      "    @ ./indices.jl:169 [inlined]",
      "  [3] +(A::Vector{Vector{Float64}}, Bs::Vector{Float64})",
      "    @ Base ./arraymath.jl:45",
      "  [4] foward_pass(network::neural_network, training_instance::Tuple{Vector{N0f8}, Vector{Float64}})",
      "    @ Main ./In[51]:8",
      "  [5] predict",
      "    @ ./In[51]:18 [inlined]",
      "  [6] (::var\"#7#8\"{neural_network})(x::Tuple{Vector{N0f8}, Vector{Float64}})",
      "    @ Main ./none:0",
      "  [7] (::Base.MappingRF{var\"#7#8\"{neural_network}, Base.BottomRF{typeof(Base.add_sum)}})(acc::Base._InitialValue, x::Tuple{Vector{N0f8}, Vector{Float64}})",
      "    @ Base ./reduce.jl:95",
      "  [8] _foldl_impl(op::Base.MappingRF{var\"#7#8\"{neural_network}, Base.BottomRF{typeof(Base.add_sum)}}, init::Base._InitialValue, itr::Vector{Tuple{Vector{N0f8}, Vector{Float64}}})",
      "    @ Base ./reduce.jl:58",
      "  [9] foldl_impl(op::Base.MappingRF{var\"#7#8\"{neural_network}, Base.BottomRF{typeof(Base.add_sum)}}, nt::Base._InitialValue, itr::Vector{Tuple{Vector{N0f8}, Vector{Float64}}})",
      "    @ Base ./reduce.jl:48",
      " [10] mapfoldl_impl",
      "    @ ./reduce.jl:44 [inlined]",
      " [11] #mapfoldl#244",
      "    @ ./reduce.jl:162 [inlined]",
      " [12] mapfoldl",
      "    @ ./reduce.jl:162 [inlined]",
      " [13] #mapreduce#248",
      "    @ ./reduce.jl:289 [inlined]",
      " [14] mapreduce",
      "    @ ./reduce.jl:289 [inlined]",
      " [15] #sum#251",
      "    @ ./reduce.jl:503 [inlined]",
      " [16] sum",
      "    @ ./reduce.jl:503 [inlined]",
      " [17] #sum#252",
      "    @ ./reduce.jl:532 [inlined]",
      " [18] sum",
      "    @ ./reduce.jl:532 [inlined]",
      " [19] success_percentage(network::neural_network, data_set::Vector{Tuple{Vector{N0f8}, Vector{Float64}}})",
      "    @ Main ./In[51]:26",
      " [20] top-level scope",
      "    @ In[52]:1",
      " [21] eval",
      "    @ ./boot.jl:373 [inlined]",
      " [22] include_string(mapexpr::typeof(REPL.softscope), mod::Module, code::String, filename::String)",
      "    @ Base ./loading.jl:1196"
     ]
    }
   ],
   "source": [
    "success_percentage(NN,test_data)"
   ]
  },
  {
   "cell_type": "code",
   "execution_count": 58,
   "metadata": {},
   "outputs": [
    {
     "data": {
      "text/plain": [
       "error_deltas (generic function with 1 method)"
      ]
     },
     "execution_count": 58,
     "metadata": {},
     "output_type": "execute_result"
    }
   ],
   "source": [
    "function error_deltas(network,training_instance)\n",
    "    L = length(network.W)\n",
    "    Z,A = foward_pass(network,training_instance)\n",
    "    δ = [(A[end]-training_instance[2])*dσ(Z[end])]\n",
    "    for i = L-1:-1:2\n",
    "        pushfirst!(δ,(network.W[i+1]'*δ[1])) * dσ(Z[i])\n",
    "    end\n",
    "    pushfirst!(δ,[0.0])\n",
    "    return δ,A\n",
    "end"
   ]
  },
  {
   "cell_type": "code",
   "execution_count": 63,
   "metadata": {},
   "outputs": [
    {
     "ename": "LoadError",
     "evalue": "syntax: incomplete: \"function\" at In[63]:7 requires end",
     "output_type": "error",
     "traceback": [
      "syntax: incomplete: \"function\" at In[63]:7 requires end",
      "",
      "Stacktrace:",
      " [1] top-level scope",
      "   @ In[63]:7",
      " [2] eval",
      "   @ ./boot.jl:373 [inlined]",
      " [3] include_string(mapexpr::typeof(REPL.softscope), mod::Module, code::String, filename::String)",
      "   @ Base ./loading.jl:1196"
     ]
    }
   ],
   "source": [
    "function make_random_mini_batch(mini_batch_size,data_set)\n",
    "    k = rand(1:length(data_set)-mini_batch_size)\n",
    "    return data_set[k:k+mini_batch_size]\n",
    "end\n",
    "\n",
    "\n",
    "function mini_batch_update!(network,mini_batch,data_set,α)\n",
    "    batch = make_random_mini_batch(network,mini_batch_size)\n",
    "    L = length(network.W)\n",
    "\n",
    "    A,δ =error_deltas(NN,batch[1])\n",
    "    A_batch = []\n",
    "    δ_batch = []\n",
    "    push!(A_batch,A)\n",
    "    push!(δ_batch,δ)\n",
    "\n",
    "    for i = 2:mini_batch_size\n",
    "        A,δ = error_deltas(NN,batch[i])\n",
    "        push!(A_batch,A)\n",
    "        push!(δ_batch,δ)\n",
    "    end\n",
    "\n",
    "    for l = L:-1:2\n",
    "        network.W[l] = network.W[l] - α * (δ_batch[1]'*A_batch[l-1])\n",
    "        network.b[l] = network.b[l] - α * sum(δ_batch[1])\n",
    "    end\n"
   ]
  },
  {
   "cell_type": "code",
   "execution_count": null,
   "metadata": {},
   "outputs": [],
   "source": []
  }
 ],
 "metadata": {
  "kernelspec": {
   "display_name": "Julia 1.7.2",
   "language": "julia",
   "name": "julia-1.7"
  },
  "language_info": {
   "file_extension": ".jl",
   "mimetype": "application/julia",
   "name": "julia",
   "version": "1.7.2"
  },
  "orig_nbformat": 4
 },
 "nbformat": 4,
 "nbformat_minor": 2
}
