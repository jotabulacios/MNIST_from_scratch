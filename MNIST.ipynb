{
 "cells": [
  {
   "cell_type": "markdown",
   "metadata": {},
   "source": [
    "##### 1 - Fetch de data"
   ]
  },
  {
   "cell_type": "code",
   "execution_count": 4,
   "metadata": {},
   "outputs": [],
   "source": [
    "import numpy as np\n",
    "import requests,gzip,os,hashlib\n",
    "%matplotlib inline"
   ]
  },
  {
   "cell_type": "code",
   "execution_count": 2,
   "metadata": {},
   "outputs": [],
   "source": [
    "# fetch data\n",
    "\n",
    "# Define a function that takes the utf-8 encoded data, decompress it and \n",
    "# convert it to a numpy array.\n",
    "path='/home/juan/learning_python/data/'\n",
    "def fetch(url):\n",
    "    fp = os.path.join(path,hashlib.md5(url.encode('utf-8')).hexdigest())\n",
    "    if os.path.isfile(fp):\n",
    "        with open(fp,\"rb\") as f:\n",
    "            data = f.read()\n",
    "    else:\n",
    "        with open(fp,\"wb\") as f:\n",
    "            data = requests.get(url).content\n",
    "            f.write(data)\n",
    "    return np.frombuffer(gzip.decompress(data), dtype=np.uint8).copy()\n",
    "\n",
    "X = fetch(\"http://yann.lecun.com/exdb/mnist/train-images-idx3-ubyte.gz\")[0x10:].reshape((-1, 28, 28))\n",
    "Y = fetch(\"http://yann.lecun.com/exdb/mnist/train-labels-idx1-ubyte.gz\")[8:]\n",
    "X_test = fetch(\"http://yann.lecun.com/exdb/mnist/t10k-images-idx3-ubyte.gz\")[0x10:].reshape((-1, 28*28))\n",
    "Y_test = fetch(\"http://yann.lecun.com/exdb/mnist/t10k-labels-idx1-ubyte.gz\")[8:]"
   ]
  },
  {
   "cell_type": "markdown",
   "metadata": {},
   "source": [
    "Since the data only contains a treining set and testing set, we need to split de training set into training and validation sets"
   ]
  },
  {
   "cell_type": "code",
   "execution_count": 5,
   "metadata": {},
   "outputs": [],
   "source": [
    "# Validation split\n",
    "rand = np.arange(60000)\n",
    "np.random.shuffle(rand)\n",
    "train_no = rand[:50000]\n",
    "\n",
    "val_no = np.setdiff1d(rand,train_no)\n",
    "\n",
    "X_train,X_val =X[train_no,:,:],X[val_no,:,:]\n",
    "Y_train,Y_val =Y[train_no],Y[val_no]"
   ]
  },
  {
   "cell_type": "markdown",
   "metadata": {},
   "source": [
    "The neural network is going to be a simple network of three layers. The input layer consist of  28*28 units which corresponds to every pixel in a 28 by 28 image from the dataset.\n",
    "The second layer  drops down to 128 and the final layer with 10 units corresponding to digits 0 to 9"
   ]
  },
  {
   "cell_type": "code",
   "execution_count": 8,
   "metadata": {},
   "outputs": [],
   "source": [
    "def init(x,y):\n",
    "    layer = np.random.uniform(-1.,1.,size=(x,y))/np.sqrt(x*y)\n",
    "    return layer.astype(np.float32)\n",
    "\n",
    "np.random.seed(42)\n",
    "l1 = init(28*28,128)\n",
    "l2 = init(128,10)"
   ]
  },
  {
   "cell_type": "code",
   "execution_count": 11,
   "metadata": {},
   "outputs": [],
   "source": [
    "# l1 is a matrix of size (28*28,128) or (784,128) and l2 is a matriz of size (128,10) or (128,10)\n",
    "# We will use the sigmod function to transform the data\n",
    "\n",
    "# Sigmod function\n",
    "\n",
    "def sigmoid(x):\n",
    "    return 1/(np.exp(-x)+1)\n",
    "\n",
    "# derivative of sigmoid function\n",
    "\n",
    "def d_sigmoid(x):\n",
    "    return(np.exp(-x)/((np.exp(-x)+1)**2))\n",
    "\n",
    "# The sigmoid function squishes the data to between 0 and 1"
   ]
  },
  {
   "cell_type": "code",
   "execution_count": 13,
   "metadata": {},
   "outputs": [],
   "source": [
    "# Softmax function\n",
    "\n",
    "# The softmax function is used to transform the output of the sigmoid function to a probability distribution\n",
    "\n",
    "\n",
    "def softmax(x):\n",
    "    exponents = np.exp(x)\n",
    "    return exponents/np.sum(exponents)\n",
    "    "
   ]
  },
  {
   "cell_type": "code",
   "execution_count": 14,
   "metadata": {},
   "outputs": [
    {
     "data": {
      "text/plain": [
       "(array([0.09003057, 0.24472847, 0.66524096]), 1.0)"
      ]
     },
     "execution_count": 14,
     "metadata": {},
     "output_type": "execute_result"
    }
   ],
   "source": [
    "# testing the softmax function\n",
    "\n",
    "out = np.array([1,2,3])\n",
    "softmax(out),sum(softmax(out))"
   ]
  },
  {
   "cell_type": "code",
   "execution_count": 15,
   "metadata": {},
   "outputs": [
    {
     "data": {
      "text/plain": [
       "(array([1.03770332e-053, 3.72007598e-044, 5.09107081e-088, 6.21315959e-049,\n",
       "        6.37586958e-059, 1.00000000e+000, 6.47023493e-026, 1.68891188e-048,\n",
       "        4.78089288e-025, 1.75258947e-101]),\n",
       " 1.0)"
      ]
     },
     "execution_count": 15,
     "metadata": {},
     "output_type": "execute_result"
    }
   ],
   "source": [
    "# more testing\n",
    "\n",
    "output_of_layer_2=np.array([12,34,-67,23,0,134,76,24,78,-98])\n",
    "a=softmax(output_of_layer_2)\n",
    "a,sum(a)"
   ]
  },
  {
   "cell_type": "code",
   "execution_count": 17,
   "metadata": {},
   "outputs": [
    {
     "data": {
      "text/plain": [
       "(5, 134)"
      ]
     },
     "execution_count": 17,
     "metadata": {},
     "output_type": "execute_result"
    }
   ],
   "source": [
    "x = np.argmax(a)\n",
    "x,output_of_layer_2[x]"
   ]
  },
  {
   "cell_type": "code",
   "execution_count": 33,
   "metadata": {},
   "outputs": [],
   "source": [
    "# If we use the softmax function we can get an overflow, so to prevent this\n",
    "# we introduce a simplified version of the softmax function\n",
    "\n",
    "# Simplified softmax function\n",
    "# We refefine the softmax function as follows:\n",
    "\n",
    "\n",
    "def softmax(x):\n",
    "    exp_element = np.exp(x-x.max())\n",
    "    return exp_element/np.sum(exp_element,axis=0)\n",
    "\n",
    "# derivative of simplified softmax function\n",
    "\n",
    "def d_softmax(x):\n",
    "    exp_element = np.exp(x-x.max())\n",
    "    return exp_element/np.sum(exp_element,axis=0)*(1-exp_element/np.sum(exp_element,axis=0))"
   ]
  },
  {
   "cell_type": "code",
   "execution_count": 34,
   "metadata": {},
   "outputs": [],
   "source": [
    "# Forward pass and backward pass\n",
    "\n",
    "# The \"forward pass\" refers to calculation process, values of the output layers from the inputs data. It's traversing through all neurons from first to last layer.\n",
    "\n",
    "#A loss function is calculated from the output values.\n",
    "\n",
    "# And then \"backward pass\" refers to process of counting changes in weights (de facto learning), using gradient descent algorithm (or similar). Computation is made from last layer, backward to the first layer.\n",
    "\n",
    "# Backward and forward pass makes together one \"iteration\""
   ]
  },
  {
   "cell_type": "code",
   "execution_count": 35,
   "metadata": {},
   "outputs": [],
   "source": [
    "def forward_backward_pass(x,y):\n",
    "    targets = np.zeros((len(y),10), np.float32)\n",
    "    targets[range(targets.shape[0]),y] = 1\n",
    " \n",
    "    \n",
    "    x_l1=x.dot(l1)\n",
    "    x_sigmoid=sigmoid(x_l1)\n",
    "    x_l2=x_sigmoid.dot(l2)\n",
    "    out=softmax(x_l2)\n",
    "   \n",
    " \n",
    "    error=2*(out-targets)/out.shape[0]*d_softmax(x_l2)\n",
    "    update_l2=x_sigmoid.T@error\n",
    "    \n",
    "    \n",
    "    error=((l2).dot(error.T)).T*d_sigmoid(x_l1)\n",
    "    update_l1=x.T@error\n",
    "\n",
    "    return out,update_l1,update_l2 "
   ]
  },
  {
   "cell_type": "code",
   "execution_count": 38,
   "metadata": {},
   "outputs": [
    {
     "name": "stdout",
     "output_type": "stream",
     "text": [
      "For 0th epoch: train accuracy: 0.117 | validation accuracy:0.069\n",
      "For 500th epoch: train accuracy: 0.648 | validation accuracy:0.653\n",
      "For 1000th epoch: train accuracy: 0.742 | validation accuracy:0.744\n",
      "For 1500th epoch: train accuracy: 0.703 | validation accuracy:0.769\n",
      "For 2000th epoch: train accuracy: 0.797 | validation accuracy:0.785\n",
      "For 2500th epoch: train accuracy: 0.789 | validation accuracy:0.792\n",
      "For 3000th epoch: train accuracy: 0.820 | validation accuracy:0.799\n",
      "For 3500th epoch: train accuracy: 0.797 | validation accuracy:0.806\n",
      "For 4000th epoch: train accuracy: 0.820 | validation accuracy:0.810\n",
      "For 4500th epoch: train accuracy: 0.781 | validation accuracy:0.813\n",
      "For 5000th epoch: train accuracy: 0.781 | validation accuracy:0.816\n",
      "For 5500th epoch: train accuracy: 0.820 | validation accuracy:0.820\n",
      "For 6000th epoch: train accuracy: 0.844 | validation accuracy:0.822\n",
      "For 6500th epoch: train accuracy: 0.820 | validation accuracy:0.822\n",
      "For 7000th epoch: train accuracy: 0.812 | validation accuracy:0.823\n",
      "For 7500th epoch: train accuracy: 0.797 | validation accuracy:0.824\n",
      "For 8000th epoch: train accuracy: 0.805 | validation accuracy:0.823\n",
      "For 8500th epoch: train accuracy: 0.891 | validation accuracy:0.825\n",
      "For 9000th epoch: train accuracy: 0.867 | validation accuracy:0.825\n",
      "For 9500th epoch: train accuracy: 0.867 | validation accuracy:0.825\n"
     ]
    }
   ],
   "source": [
    "# Training the network performing stochastic gradient descent\n",
    "\n",
    "epochs=10000\n",
    "lr=0.001\n",
    "batch=128\n",
    "\n",
    "losses,accuracies,val_accuracies=[],[],[]\n",
    "\n",
    "for i in range(epochs):\n",
    "    sample=np.random.randint(0,X_train.shape[0],size=(batch))\n",
    "    x=X_train[sample].reshape((-1,28*28))\n",
    "    y=Y_train[sample]\n",
    " \n",
    "\n",
    "    out,update_l1,update_l2=forward_backward_pass(x,y)\n",
    "  \n",
    "    category=np.argmax(out,axis=1)\n",
    "    accuracy=(category==y).mean()\n",
    "    accuracies.append(accuracy)\n",
    "    \n",
    "    loss=((category-y)**2).mean()\n",
    "    losses.append(loss.item())\n",
    "    \n",
    "    l1=l1-lr*update_l1\n",
    "    l2=l2-lr*update_l2\n",
    "    \n",
    "    if(i%20==0):    \n",
    "        X_val=X_val.reshape((-1,28*28))\n",
    "        val_out=np.argmax(softmax(sigmoid(X_val.dot(l1)).dot(l2)),axis=1)\n",
    "        val_acc=(val_out==Y_val).mean()\n",
    "        val_accuracies.append(val_acc.item())\n",
    "    if(i%500==0): print(f'For {i}th epoch: train accuracy: {accuracy:.3f} | validation accuracy:{val_acc:.3f}')"
   ]
  },
  {
   "cell_type": "code",
   "execution_count": 39,
   "metadata": {},
   "outputs": [
    {
     "data": {
      "text/plain": [
       "[<matplotlib.lines.Line2D at 0x7ff525fcf4c0>]"
      ]
     },
     "execution_count": 39,
     "metadata": {},
     "output_type": "execute_result"
    },
    {
     "data": {
      "image/png": "[encoded data removed]",
      "text/plain": [
       "<Figure size 432x288 with 1 Axes>"
      ]
     },
     "metadata": {
      "needs_background": "light"
     },
     "output_type": "display_data"
    }
   ],
   "source": [
    "# done, let's plot the results\n",
    "\n",
    "plt.ylim(-0,1,1.1)\n",
    "plot(accuracies)"
   ]
  },
  {
   "cell_type": "code",
   "execution_count": 40,
   "metadata": {},
   "outputs": [
    {
     "data": {
      "text/plain": [
       "[<matplotlib.lines.Line2D at 0x7ff5281d5f10>]"
      ]
     },
     "execution_count": 40,
     "metadata": {},
     "output_type": "execute_result"
    },
    {
     "data": {
      "image/png": "[encoded data removed]",
      "text/plain": [
       "<Figure size 432x288 with 1 Axes>"
      ]
     },
     "metadata": {
      "needs_background": "light"
     },
     "output_type": "display_data"
    }
   ],
   "source": [
    "plot(val_accuracies)"
   ]
  },
  {
   "cell_type": "code",
   "execution_count": 41,
   "metadata": {},
   "outputs": [
    {
     "data": {
      "text/plain": [
       "[<matplotlib.lines.Line2D at 0x7ff525f72370>]"
      ]
     },
     "execution_count": 41,
     "metadata": {},
     "output_type": "execute_result"
    },
    {
     "data": {
      "image/png": "[encoded data removed]",
      "text/plain": [
       "<Figure size 432x288 with 1 Axes>"
      ]
     },
     "metadata": {
      "needs_background": "light"
     },
     "output_type": "display_data"
    }
   ],
   "source": [
    "# Testing the model\n",
    "\n",
    "plot(val_accuracies)"
   ]
  },
  {
   "cell_type": "code",
   "execution_count": 42,
   "metadata": {},
   "outputs": [
    {
     "data": {
      "text/plain": [
       "array([7])"
      ]
     },
     "execution_count": 42,
     "metadata": {},
     "output_type": "execute_result"
    },
    {
     "data": {
      "image/png": "[encoded data removed]",
      "text/plain": [
       "<Figure size 432x288 with 1 Axes>"
      ]
     },
     "metadata": {
      "needs_background": "light"
     },
     "output_type": "display_data"
    }
   ],
   "source": [
    "# this should look like a 7\n",
    "\n",
    "\n",
    "m = [[0,0,0,0,0,0,0],\n",
    "     [0,0,10,10,10,0,0],\n",
    "     [0,0,0,0,10,0,0],\n",
    "     [0,0,0,0,10,0,0],\n",
    "     [0,0,0,0,10,0,0],\n",
    "     [0,0,0,0,10,0,0],\n",
    "     [0,0,0,0,0,0,0]]\n",
    "\n",
    "m = np.concatenate([np.concatenate([[x]*4 for x in y]*4) for y in m])\n",
    "m=m.reshape(1,-1)\n",
    "imshow(m.reshape(28,28))\n",
    "x = np.argmax(sigmoid(m.dot(l1)).dot(l2),axis=1)\n",
    "x\n"
   ]
  },
  {
   "cell_type": "code",
   "execution_count": 43,
   "metadata": {},
   "outputs": [
    {
     "data": {
      "text/plain": [
       "array([1])"
      ]
     },
     "execution_count": 43,
     "metadata": {},
     "output_type": "execute_result"
    },
    {
     "data": {
      "image/png": "[encoded data removed]",
      "text/plain": [
       "<Figure size 432x288 with 1 Axes>"
      ]
     },
     "metadata": {
      "needs_background": "light"
     },
     "output_type": "display_data"
    }
   ],
   "source": [
    "n = [[0,0,0,0,0,0,0],\n",
    "     [0,0,0,10,0,0,0],\n",
    "     [0,0,0,10,0,0,0],\n",
    "     [0,0,0,10,0,0,0],\n",
    "     [0,0,0,10,0,0,0],\n",
    "     [0,0,0,10,0,0,0],\n",
    "     [0,0,0,0,0,0,0]]\n",
    "\n",
    "n = np.concatenate([np.concatenate([[x]*4 for x in y]*4) for y in n])\n",
    "n=n.reshape(1,-1)\n",
    "imshow(n.reshape(28,28))\n",
    "x = np.argmax(sigmoid(n.dot(l1)).dot(l2),axis=1)\n",
    "x"
   ]
  },
  {
   "cell_type": "code",
   "execution_count": null,
   "metadata": {},
   "outputs": [],
   "source": []
  }
 ],
 "metadata": {
  "kernelspec": {
   "display_name": "Python 3 (ipykernel)",
   "language": "python",
   "name": "python3"
  },
  "language_info": {
   "codemirror_mode": {
    "name": "ipython",
    "version": 3
   },
   "file_extension": ".py",
   "mimetype": "text/x-python",
   "name": "python",
   "nbconvert_exporter": "python",
   "pygments_lexer": "ipython3",
   "version": "3.9.12"
  },
  "vscode": {
   "interpreter": {
    "hash": "74dbfc52f168b3071122cf9c0781887d6121c12f9c1b29bca56ce221bccb2a07"
   }
  }
 },
 "nbformat": 4,
 "nbformat_minor": 2
}
