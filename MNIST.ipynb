{
 "cells": [
  {
   "cell_type": "markdown",
   "metadata": {},
   "source": [
    "##### 1 - Fetch de data"
   ]
  },
  {
   "cell_type": "code",
   "execution_count": 30,
   "metadata": {},
   "outputs": [],
   "source": [
    "import numpy as np\n",
    "import requests,gzip,os,hashlib\n",
    "import matplotlib.pyplot\n",
    "%matplotlib inline"
   ]
  },
  {
   "cell_type": "code",
   "execution_count": 31,
   "metadata": {},
   "outputs": [],
   "source": [
    "# Buscamos los datos\n",
    "# Creamos una funcion que toma los datos, los descomprime y convierte en un numpy array\n",
    "\n",
    "path='/home/juan/learning_python/data/'\n",
    "def fetch(url):\n",
    "    fp = os.path.join(path,hashlib.md5(url.encode('utf-8')).hexdigest())\n",
    "    if os.path.isfile(fp):\n",
    "        with open(fp,\"rb\") as f:\n",
    "            data = f.read()\n",
    "    else:\n",
    "        with open(fp,\"wb\") as f:\n",
    "            data = requests.get(url).content\n",
    "            f.write(data)\n",
    "    return np.frombuffer(gzip.decompress(data), dtype=np.uint8).copy()\n",
    "\n",
    "X = fetch(\"http://yann.lecun.com/exdb/mnist/train-images-idx3-ubyte.gz\")[0x10:].reshape((-1, 28, 28))\n",
    "Y = fetch(\"http://yann.lecun.com/exdb/mnist/train-labels-idx1-ubyte.gz\")[8:]\n",
    "X_test = fetch(\"http://yann.lecun.com/exdb/mnist/t10k-images-idx3-ubyte.gz\")[0x10:].reshape((-1, 28*28))\n",
    "Y_test = fetch(\"http://yann.lecun.com/exdb/mnist/t10k-labels-idx1-ubyte.gz\")[8:]"
   ]
  },
  {
   "cell_type": "code",
   "execution_count": 49,
   "metadata": {},
   "outputs": [],
   "source": [
    "# Separamos los datos para poder tener un training set y un test set\n",
    "\n",
    "# Esto lo podriamos tener desde antes?\n",
    "# Evitar trabajar con random en leo?\n",
    "rand = np.arange(60000)\n",
    "np.random.shuffle(rand)\n",
    "train_no = rand[:50000]\n",
    "\n",
    "val_no = np.setdiff1d(rand,train_no)\n",
    "\n",
    "X_train,X_val =X[train_no,:,:],X[val_no,:,:]\n",
    "Y_train,Y_val =Y[train_no],Y[val_no]"
   ]
  },
  {
   "cell_type": "markdown",
   "metadata": {},
   "source": [
    "La red neuronal va a ser una sencilla de tres capas/layers.\n",
    "La primer capa toma los 28*28 (784) provenientes de la imagen y pasa a una de 128.  De ahi viene una matriz de 784x128\n",
    "\n",
    "Luego la segunda capa toma los 128 y lleva a 10 teniendo asociada una matriz de 128x10\n",
    "\n",
    "Los 10 valores corresponden a lo que queremos clasificar"
   ]
  },
  {
   "cell_type": "code",
   "execution_count": 50,
   "metadata": {},
   "outputs": [],
   "source": [
    "# Esto es para inicializar la red, usamos números al azar\n",
    "# np.random.uniform  nos da valores en una distribucion uniforme\n",
    "# primer valor es el más bajo, le sigue el más alto y el tamaño lo da x*y\n",
    "# la raiz cuadrada es para normalizar\n",
    "\n",
    "def init(x,y):\n",
    "    layer = np.random.uniform(-1.,1.,size=(x,y))/np.sqrt(x*y)\n",
    "    return layer.astype(np.float32)\n",
    "\n",
    "np.random.seed(42)\n",
    "l1 = init(28*28,128)\n",
    "l2 = init(128,10)\n",
    "\n"
   ]
  },
  {
   "cell_type": "code",
   "execution_count": 51,
   "metadata": {},
   "outputs": [],
   "source": [
    "# Sigmod function\n",
    "# La funcion sigmoide la vamos a utilizar para la activacion de la red\n",
    "# toma valores y devuelve número entre 0 y 1\n",
    "def sigmoid(x):\n",
    "    return 1/(np.exp(-x)+1)\n",
    "\n",
    "# derivative of sigmoid function\n",
    "# Calculamos la derivada de la funcion sigmoide porque despues vamos a necesitar realizar una regla de la cadena\n",
    "# entonces vamos a necesitar la derivada de la funcion sigmoide\n",
    "\n",
    "def d_sigmoid(x):\n",
    "    return(np.exp(-x)/((np.exp(-x)+1)**2))\n",
    "\n",
    "# The sigmoid function squishes the data to between 0 and 1"
   ]
  },
  {
   "cell_type": "code",
   "execution_count": 35,
   "metadata": {},
   "outputs": [],
   "source": [
    "# Softmax function\n",
    "\n",
    "# The softmax function is used to transform the output of the sigmoid function to a probability distribution\n",
    "\n",
    "# Softmax la necesitamos para la salida de la red, vamos a querer que nos de una probabilidad de que cada uno de los 10 \n",
    "# elementos, es decir de 0 a 9 \n",
    "def softmax(x):\n",
    "    exponents = np.exp(x)\n",
    "    return exponents/np.sum(exponents)\n",
    "    "
   ]
  },
  {
   "cell_type": "code",
   "execution_count": 52,
   "metadata": {},
   "outputs": [],
   "source": [
    "# Al utilizar softmax corremos con el peligro de tener un overflow por lo que introducimos\n",
    "# una modificacion a la misma\n",
    "\n",
    "\n",
    "def softmax(x):\n",
    "    exp_element = np.exp(x-x.max())\n",
    "    return exp_element/np.sum(exp_element,axis=0)\n",
    "\n",
    "# Derivada de softmax modificada\n",
    "\n",
    "def d_softmax(x):\n",
    "    exp_element = np.exp(x-x.max())\n",
    "    return exp_element/np.sum(exp_element,axis=0)*(1-exp_element/np.sum(exp_element,axis=0))"
   ]
  },
  {
   "cell_type": "code",
   "execution_count": 40,
   "metadata": {},
   "outputs": [],
   "source": [
    "# Forward pass and backward pass\n",
    "\n",
    "# The \"forward pass\" refers to calculation process, values of the output layers from the inputs data. It's traversing through all neurons from first to last layer.\n",
    "\n",
    "#A loss function is calculated from the output values.\n",
    "\n",
    "# And then \"backward pass\" refers to process of counting changes in weights (de facto learning), using gradient descent algorithm (or similar). Computation is made from last layer, backward to the first layer.\n",
    "\n",
    "# Backward and forward pass makes together one \"iteration\""
   ]
  },
  {
   "cell_type": "code",
   "execution_count": 53,
   "metadata": {},
   "outputs": [],
   "source": [
    "def forward_backward_pass(x,y):\n",
    "    targets = np.zeros((len(y),10), np.float32)\n",
    "    targets[range(targets.shape[0]),y] = 1\n",
    " # pongo un 1 en la posicion de la clase que corresponde\n",
    "    \n",
    "    x_l1=x.dot(l1) # multiplicamos las matrices de las capas\n",
    "    x_sigmoid=sigmoid(x_l1) # aplico sigmoide\n",
    "    x_l2=x_sigmoid.dot(l2)\n",
    "    out=softmax(x_l2)\n",
    "   \n",
    " # que tan lejos estamos \n",
    "\n",
    "\n",
    "    error=2*(out-targets)/out.shape[0]*d_softmax(x_l2)\n",
    " # la derivada nos da una dicea de cuanto cambiamos x_l2\n",
    "    update_l2=x_sigmoid.T@error\n",
    "  # @ es multiplicacion matricial\n",
    "  # .T hace la transpuesta  \n",
    "    \n",
    "    error=((l2).dot(error.T)).T*d_sigmoid(x_l1)\n",
    "    update_l1=x.T@error\n",
    "\n",
    "    return out,update_l1,update_l2 "
   ]
  },
  {
   "cell_type": "code",
   "execution_count": 54,
   "metadata": {},
   "outputs": [
    {
     "name": "stdout",
     "output_type": "stream",
     "text": [
      "For 0th epoch: train accuracy: 0.062 | validation accuracy:0.063\n",
      "For 500th epoch: train accuracy: 0.680 | validation accuracy:0.662\n",
      "For 1000th epoch: train accuracy: 0.742 | validation accuracy:0.749\n",
      "For 1500th epoch: train accuracy: 0.766 | validation accuracy:0.774\n",
      "For 2000th epoch: train accuracy: 0.812 | validation accuracy:0.785\n",
      "For 2500th epoch: train accuracy: 0.789 | validation accuracy:0.794\n",
      "For 3000th epoch: train accuracy: 0.805 | validation accuracy:0.801\n",
      "For 3500th epoch: train accuracy: 0.789 | validation accuracy:0.807\n",
      "For 4000th epoch: train accuracy: 0.766 | validation accuracy:0.812\n",
      "For 4500th epoch: train accuracy: 0.836 | validation accuracy:0.815\n",
      "For 5000th epoch: train accuracy: 0.859 | validation accuracy:0.819\n",
      "For 5500th epoch: train accuracy: 0.859 | validation accuracy:0.822\n",
      "For 6000th epoch: train accuracy: 0.797 | validation accuracy:0.824\n",
      "For 6500th epoch: train accuracy: 0.891 | validation accuracy:0.824\n",
      "For 7000th epoch: train accuracy: 0.812 | validation accuracy:0.825\n",
      "For 7500th epoch: train accuracy: 0.852 | validation accuracy:0.826\n",
      "For 8000th epoch: train accuracy: 0.820 | validation accuracy:0.826\n",
      "For 8500th epoch: train accuracy: 0.883 | validation accuracy:0.827\n",
      "For 9000th epoch: train accuracy: 0.844 | validation accuracy:0.828\n",
      "For 9500th epoch: train accuracy: 0.891 | validation accuracy:0.828\n"
     ]
    }
   ],
   "source": [
    "\n",
    "# Entrenamos la red neuronal con grandiente estocástico\n",
    "# Se utiliza estocástico para reducir el tiempo de computo\n",
    "# separamos en 128 batches \n",
    "epochs=10000\n",
    "lr=0.001\n",
    "batch=128\n",
    "\n",
    "losses,accuracies,val_accuracies=[],[],[]\n",
    "\n",
    "for i in range(epochs):\n",
    "    sample=np.random.randint(0,X_train.shape[0],size=(batch))\n",
    "    x=X_train[sample].reshape((-1,28*28))\n",
    "    y=Y_train[sample]\n",
    " \n",
    "\n",
    "    out,update_l1,update_l2=forward_backward_pass(x,y)\n",
    "  \n",
    "    category=np.argmax(out,axis=1)\n",
    "    accuracy=(category==y).mean()\n",
    "    accuracies.append(accuracy)\n",
    "    \n",
    "    loss=((category-y)**2).mean()\n",
    "    losses.append(loss.item())\n",
    "    \n",
    "    l1=l1-lr*update_l1\n",
    "    l2=l2-lr*update_l2\n",
    "    \n",
    "    if(i%20==0):    \n",
    "        X_val=X_val.reshape((-1,28*28))\n",
    "        val_out=np.argmax(softmax(sigmoid(X_val.dot(l1)).dot(l2)),axis=1)\n",
    "        val_acc=(val_out==Y_val).mean()\n",
    "        val_accuracies.append(val_acc.item())\n",
    "    if(i%500==0): print(f'For {i}th epoch: train accuracy: {accuracy:.3f} | validation accuracy:{val_acc:.3f}')"
   ]
  },
  {
   "cell_type": "code",
   "execution_count": 43,
   "metadata": {},
   "outputs": [
    {
     "data": {
      "text/plain": [
       "[<matplotlib.lines.Line2D at 0x7fb58030e4d0>]"
      ]
     },
     "execution_count": 43,
     "metadata": {},
     "output_type": "execute_result"
    },
    {
     "data": {
      "image/png": "[encoded data removed]",
      "text/plain": [
       "<Figure size 432x288 with 1 Axes>"
      ]
     },
     "metadata": {
      "needs_background": "light"
     },
     "output_type": "display_data"
    }
   ],
   "source": [
    "# done, let's plot the results\n",
    "\n",
    "plt.ylim(-0,1,1.1)\n",
    "plt.plot(accuracies)"
   ]
  },
  {
   "cell_type": "code",
   "execution_count": 44,
   "metadata": {},
   "outputs": [
    {
     "data": {
      "text/plain": [
       "[<matplotlib.lines.Line2D at 0x7fb5802ac280>]"
      ]
     },
     "execution_count": 44,
     "metadata": {},
     "output_type": "execute_result"
    },
    {
     "data": {
      "image/png": "[encoded data removed]",
      "text/plain": [
       "<Figure size 432x288 with 1 Axes>"
      ]
     },
     "metadata": {
      "needs_background": "light"
     },
     "output_type": "display_data"
    }
   ],
   "source": [
    "plt.plot(val_accuracies)"
   ]
  },
  {
   "cell_type": "code",
   "execution_count": 45,
   "metadata": {},
   "outputs": [
    {
     "data": {
      "text/plain": [
       "[<matplotlib.lines.Line2D at 0x7fb57cf414e0>]"
      ]
     },
     "execution_count": 45,
     "metadata": {},
     "output_type": "execute_result"
    },
    {
     "data": {
      "image/png": "[encoded data removed]",
      "text/plain": [
       "<Figure size 432x288 with 1 Axes>"
      ]
     },
     "metadata": {
      "needs_background": "light"
     },
     "output_type": "display_data"
    }
   ],
   "source": [
    "# Testing the model\n",
    "\n",
    "plt.plot(val_accuracies)"
   ]
  },
  {
   "cell_type": "code",
   "execution_count": 46,
   "metadata": {},
   "outputs": [
    {
     "data": {
      "text/plain": [
       "array([7])"
      ]
     },
     "execution_count": 46,
     "metadata": {},
     "output_type": "execute_result"
    },
    {
     "data": {
      "image/png": "[encoded data removed]",
      "text/plain": [
       "<Figure size 432x288 with 1 Axes>"
      ]
     },
     "metadata": {
      "needs_background": "light"
     },
     "output_type": "display_data"
    }
   ],
   "source": [
    "# this should look like a 7\n",
    "\n",
    "\n",
    "m = [[0,0,0,0,0,0,0],\n",
    "     [0,0,10,10,10,0,0],\n",
    "     [0,0,0,0,10,0,0],\n",
    "     [0,0,0,0,10,0,0],\n",
    "     [0,0,0,0,10,0,0],\n",
    "     [0,0,0,0,10,0,0],\n",
    "     [0,0,0,0,0,0,0]]\n",
    "\n",
    "m = np.concatenate([np.concatenate([[x]*4 for x in y]*4) for y in m])\n",
    "m=m.reshape(1,-1)\n",
    "plt.imshow(m.reshape(28,28))\n",
    "x = np.argmax(sigmoid(m.dot(l1)).dot(l2),axis=1)\n",
    "x\n"
   ]
  },
  {
   "cell_type": "code",
   "execution_count": 47,
   "metadata": {},
   "outputs": [
    {
     "data": {
      "text/plain": [
       "array([1])"
      ]
     },
     "execution_count": 47,
     "metadata": {},
     "output_type": "execute_result"
    },
    {
     "data": {
      "image/png": "[encoded data removed]",
      "text/plain": [
       "<Figure size 432x288 with 1 Axes>"
      ]
     },
     "metadata": {
      "needs_background": "light"
     },
     "output_type": "display_data"
    }
   ],
   "source": [
    "n = [[0,0,0,0,0,0,0],\n",
    "     [0,0,0,10,0,0,0],\n",
    "     [0,0,0,10,0,0,0],\n",
    "     [0,0,0,10,0,0,0],\n",
    "     [0,0,0,10,0,0,0],\n",
    "     [0,0,0,10,0,0,0],\n",
    "     [0,0,0,0,0,0,0]]\n",
    "\n",
    "n = np.concatenate([np.concatenate([[x]*4 for x in y]*4) for y in n])\n",
    "n=n.reshape(1,-1)\n",
    "plt.imshow(n.reshape(28,28))\n",
    "x = np.argmax(sigmoid(n.dot(l1)).dot(l2),axis=1)\n",
    "x"
   ]
  },
  {
   "cell_type": "code",
   "execution_count": 48,
   "metadata": {},
   "outputs": [
    {
     "data": {
      "text/plain": [
       "array([[  0,   0,   0,   0,   0,   0,   0,   0,   0,   0,   0,   0,   0,\n",
       "          0,   0,   0,   0,   0,   0,   0,   0,   0,   0,   0,   0,   0,\n",
       "          0,   0],\n",
       "       [  0,   0,   0,   0,   0,   0,   0,   0,   0,   0,   0,   0,   0,\n",
       "          0,   0,   0,   0,   0,   0,   0,   0,   0,   0,   0,   0,   0,\n",
       "          0,   0],\n",
       "       [  0,   0,   0,   0,   0,   0,   0,   0,   0,   0,   0,   0,   0,\n",
       "          0,   0,   0,   0,   0,   0,   0,   0,   0,   0,   0,   0,   0,\n",
       "          0,   0],\n",
       "       [  0,   0,   0,   0,   0,   0,   0,   0,   0,   0,   0,   0,   0,\n",
       "          0,   0,   0,   0,   0,   0,   0,   0,   0,   0,   0,   0,   0,\n",
       "          0,   0],\n",
       "       [  0,   0,   0,   0,   0,   0,   0,   0,   0,   0,   0,   0,   0,\n",
       "          0,   0,   0,   0,   0,   0,   0,   0,   0,   0,   0,   0,   0,\n",
       "          0,   0],\n",
       "       [  0,   0,   0,   0,   0,   0,   0,   0,   0,   0,   0,   0,   0,\n",
       "          0,   0,   0,   0,   0,   0,   0, 128, 128,  64,   0,   0,   0,\n",
       "          0,   0],\n",
       "       [  0,   0,   0,   0,   0,   0,   0,   0,   0,   0,   0,   0,   0,\n",
       "          0,   0,   0,   0,   0,  64, 191, 255, 255, 255, 191,  64,   0,\n",
       "          0,   0],\n",
       "       [  0,   0,   0,   0,   0,   0,   0,   0,   0,   0,   0,   0,   0,\n",
       "          0,   0,   0,   0,  64, 255, 255, 128, 128, 255, 255, 128,   0,\n",
       "          0,   0],\n",
       "       [  0,   0,   0,   0,   0,   0,   0,   0,   0,   0,   0,   0,   0,\n",
       "          0,   0,   0,   0, 128, 128,   0,   0,   0,  64, 255, 191,   0,\n",
       "          0,   0],\n",
       "       [  0,   0,   0,   0,   0,   0,   0,   0,   0,  64, 128, 255, 191,\n",
       "          0,   0,   0,   0,   0,   0,   0,   0,   0,   0, 255, 255,   0,\n",
       "          0,   0],\n",
       "       [  0,   0,   0,   0,   0,   0,   0,   0, 191, 255, 255, 191, 128,\n",
       "          0,   0,   0,   0,   0,   0,   0,   0,   0,   0, 255, 255,   0,\n",
       "          0,   0],\n",
       "       [  0,   0,   0,   0,   0,   0,   0, 191, 255, 255, 191,   0,   0,\n",
       "          0,   0,   0,   0,   0,   0,   0,   0,   0, 128, 255, 191,   0,\n",
       "          0,   0],\n",
       "       [  0,   0,   0,   0,   0,   0, 128, 255, 255, 191,   0,   0,   0,\n",
       "          0,   0,   0,   0,   0,   0,   0,   0,  64, 255, 255, 128,   0,\n",
       "          0,   0],\n",
       "       [  0,   0,   0,   0,   0,   0, 191, 255, 191,   0,   0,   0,   0,\n",
       "          0,   0,   0,   0,   0,   0,   0,   0, 128, 255, 255,  64,   0,\n",
       "          0,   0],\n",
       "       [  0,   0,   0,   0,   0,  64, 255, 255,   0,   0,   0,   0,   0,\n",
       "          0,   0,   0,   0,   0,   0,   0,  64, 255, 255,  64,   0,   0,\n",
       "          0,   0],\n",
       "       [  0,   0,   0,   0,   0, 128, 255, 191,   0,   0,   0,   0,   0,\n",
       "          0,   0,   0,   0,   0,   0,  64, 255, 255, 191,   0,   0,   0,\n",
       "          0,   0],\n",
       "       [  0,   0,   0,   0,   0, 191, 255, 128,   0,   0,   0,   0,   0,\n",
       "          0,   0,   0,   0,   0,  64, 255, 255, 128,   0,   0,   0,   0,\n",
       "          0,   0],\n",
       "       [  0,   0,   0,   0,   0, 255, 255, 128,   0,   0,   0,   0,   0,\n",
       "          0,   0,   0,   0,  64, 191, 255, 191,   0,   0,   0,   0,   0,\n",
       "          0,   0],\n",
       "       [  0,   0,   0,   0,   0, 255, 255, 128,   0,   0,   0,   0,   0,\n",
       "          0,   0,   0,  64, 255, 255, 191,   0,   0,   0,   0,   0,   0,\n",
       "          0,   0],\n",
       "       [  0,   0,   0,   0,   0,  64, 255, 255,   0,   0,   0,   0,   0,\n",
       "          0,  64, 128, 191, 255,  64,   0,   0,   0,   0,   0,   0,   0,\n",
       "          0,   0],\n",
       "       [  0,   0,   0,   0,   0,   0, 191, 255, 255, 128,  64,   0, 128,\n",
       "        191, 255, 255, 255,  64,   0,   0,   0,   0,   0,   0,   0,   0,\n",
       "          0,   0],\n",
       "       [  0,   0,   0,   0,   0,   0,  64, 191, 255, 255, 255, 255, 255,\n",
       "        255, 255, 128,   0,   0,   0,   0,   0,   0,   0,   0,   0,   0,\n",
       "          0,   0],\n",
       "       [  0,   0,   0,   0,   0,   0,   0,   0,  64, 128, 128, 128, 128,\n",
       "        128,   0,   0,   0,   0,   0,   0,   0,   0,   0,   0,   0,   0,\n",
       "          0,   0],\n",
       "       [  0,   0,   0,   0,   0,   0,   0,   0,   0,   0,   0,   0,   0,\n",
       "          0,   0,   0,   0,   0,   0,   0,   0,   0,   0,   0,   0,   0,\n",
       "          0,   0],\n",
       "       [  0,   0,   0,   0,   0,   0,   0,   0,   0,   0,   0,   0,   0,\n",
       "          0,   0,   0,   0,   0,   0,   0,   0,   0,   0,   0,   0,   0,\n",
       "          0,   0],\n",
       "       [  0,   0,   0,   0,   0,   0,   0,   0,   0,   0,   0,   0,   0,\n",
       "          0,   0,   0,   0,   0,   0,   0,   0,   0,   0,   0,   0,   0,\n",
       "          0,   0],\n",
       "       [  0,   0,   0,   0,   0,   0,   0,   0,   0,   0,   0,   0,   0,\n",
       "          0,   0,   0,   0,   0,   0,   0,   0,   0,   0,   0,   0,   0,\n",
       "          0,   0],\n",
       "       [  0,   0,   0,   0,   0,   0,   0,   0,   0,   0,   0,   0,   0,\n",
       "          0,   0,   0,   0,   0,   0,   0,   0,   0,   0,   0,   0,   0,\n",
       "          0,   0]], dtype=uint8)"
      ]
     },
     "execution_count": 48,
     "metadata": {},
     "output_type": "execute_result"
    }
   ],
   "source": [
    "X_train[2]"
   ]
  },
  {
   "cell_type": "code",
   "execution_count": null,
   "metadata": {},
   "outputs": [],
   "source": []
  },
  {
   "cell_type": "code",
   "execution_count": null,
   "metadata": {},
   "outputs": [],
   "source": []
  },
  {
   "cell_type": "code",
   "execution_count": null,
   "metadata": {},
   "outputs": [],
   "source": []
  }
 ],
 "metadata": {
  "kernelspec": {
   "display_name": "Python 3.10.4 64-bit",
   "language": "python",
   "name": "python3"
  },
  "language_info": {
   "codemirror_mode": {
    "name": "ipython",
    "version": 3
   },
   "file_extension": ".py",
   "mimetype": "text/x-python",
   "name": "python",
   "nbconvert_exporter": "python",
   "pygments_lexer": "ipython3",
   "version": "3.10.4"
  },
  "vscode": {
   "interpreter": {
    "hash": "916dbcbb3f70747c44a77c7bcd40155683ae19c65e1c03b4aa3499c5328201f1"
   }
  }
 },
 "nbformat": 4,
 "nbformat_minor": 2
}
